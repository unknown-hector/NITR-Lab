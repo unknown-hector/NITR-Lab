{
 "cells": [
  {
   "cell_type": "code",
   "execution_count": 88,
   "metadata": {},
   "outputs": [],
   "source": [
    "# Fuzzy sets POOR, AVERAGE and GREAT for Service and Food Quality\n",
    "# Only triangular membership functions are used in this fuzzy assignment!\n",
    "\n",
    "fuzzySets = [[0, 0, 4], [3, 5, 7.5], [6.3, 8, 10]]\n",
    "\n",
    "# In each fuzzy set described above, the values correspond to the lower, peak and upper values of the fuzzy set"
   ]
  },
  {
   "cell_type": "code",
   "execution_count": 104,
   "metadata": {},
   "outputs": [],
   "source": [
    "service_rating = 9.8\n",
    "food_quality_rating = 6.5"
   ]
  },
  {
   "cell_type": "code",
   "execution_count": 90,
   "metadata": {},
   "outputs": [],
   "source": [
    "def get_Ordinate(x_coordinate, abscissa_1, abscissa_2) -> float: # Valid only for triangular membership functions\n",
    "    return (abscissa_2 - x_coordinate)/(abscissa_2 - abscissa_1)"
   ]
  },
  {
   "cell_type": "code",
   "execution_count": 91,
   "metadata": {},
   "outputs": [],
   "source": [
    "def getFuzzyValues(fuzzySet:list, rating) -> dict:\n",
    "    values = []\n",
    "    \n",
    "    for member_list in fuzzySet:\n",
    "        y_coordinate = -1\n",
    "        i = -1\n",
    "        while (i := i+1) < 2:\n",
    "            if member_list[i] <= rating <= member_list[i+1]:\n",
    "                y_coordinate = get_Ordinate(rating, member_list[i], member_list[i+1])\n",
    "            else:\n",
    "                continue\n",
    "        if y_coordinate != -1:\n",
    "            values.append(y_coordinate)\n",
    "        else:\n",
    "            values.append(0.0)\n",
    "            \n",
    "    return {'POOR': values[0], 'AVERAGE': values[1], 'GOOD': values[2]}"
   ]
  },
  {
   "cell_type": "code",
   "execution_count": 109,
   "metadata": {},
   "outputs": [
    {
     "name": "stdout",
     "output_type": "stream",
     "text": [
      "Tip = HIGH\n"
     ]
    }
   ],
   "source": [
    "# Calculating the fuzzy values for service and food quality corresponding to their fuzzy sets\n",
    "serviceDict = getFuzzyValues(fuzzySets, service_rating)\n",
    "foodqualDict = getFuzzyValues(fuzzySets, food_quality_rating)\n",
    "\n",
    "# Inferring the degree of service and food quality from their corresponding dictionaries\n",
    "service = max(serviceDict, key=serviceDict.get)\n",
    "food_quality = max(foodqualDict, key=foodqualDict.get)\n",
    "\n",
    "# Applying inference rules to obtained fuzzy values\n",
    "tip = None\n",
    "if service == 'GOOD' or food_quality == 'GOOD':\n",
    "    tip = 'HIGH'\n",
    "elif service == 'POOR' and food_quality == 'POOR':\n",
    "    tip = 'LOW'\n",
    "else:\n",
    "    tip = 'MEDIUM'\n",
    "    \n",
    "print('Tip =', tip)\n"
   ]
  },
  {
   "cell_type": "code",
   "execution_count": 110,
   "metadata": {},
   "outputs": [
    {
     "name": "stdout",
     "output_type": "stream",
     "text": [
      "Tip percentage = 20.3\n"
     ]
    }
   ],
   "source": [
    "# Defining the fuzzy sets LOW, MEDIUM and HIGH for percentage tip\n",
    "fuzzySet_tip = [[0, 6.3, 9.7], [7, 12.5, 18.1], [16.8, 19.1, 25]]\n",
    "\n",
    "# Calculating the centroid (Center of Mass) values for each fuzzy set of tip\n",
    "centroid_tip = [sum(member)/len(member) for member in fuzzySet_tip]\n",
    "\n",
    "# Aggregating the fuzzy values of service and food quality to create fuzzy values for tip\n",
    "fuzzyVal_tip = []\n",
    "for key in serviceDict:\n",
    "    fuzzyVal_tip.append(min(serviceDict[key], foodqualDict[key]))\n",
    "\n",
    "# Calculating the percentage tip\n",
    "percentage_tip = 0\n",
    "for i in range(len(fuzzySet_tip)):\n",
    "    percentage_tip += fuzzyVal_tip[i] * centroid_tip[i]\n",
    "\n",
    "percentage_tip /= sum(fuzzyVal_tip)\n",
    "print('Tip percentage =', percentage_tip)"
   ]
  },
  {
   "cell_type": "code",
   "execution_count": null,
   "metadata": {},
   "outputs": [],
   "source": []
  }
 ],
 "metadata": {
  "kernelspec": {
   "display_name": "Python 3",
   "language": "python",
   "name": "python3"
  },
  "language_info": {
   "codemirror_mode": {
    "name": "ipython",
    "version": 3
   },
   "file_extension": ".py",
   "mimetype": "text/x-python",
   "name": "python",
   "nbconvert_exporter": "python",
   "pygments_lexer": "ipython3",
   "version": "3.11.1"
  },
  "orig_nbformat": 4
 },
 "nbformat": 4,
 "nbformat_minor": 2
}

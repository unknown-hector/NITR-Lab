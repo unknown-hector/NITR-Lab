{
 "cells": [
  {
   "cell_type": "code",
   "execution_count": 1,
   "metadata": {},
   "outputs": [],
   "source": [
    "# The task is to train a 3-layer multilayer perceptron using a real-encoded evolutionary\n",
    "# algorithm for learning parity-3 problem (XOR-problem with 3 number of inputs).\n",
    "\n",
    "# We have to find the near-optimal weights of the 3-layer perceptron by keeping the range of weights\n",
    "# of the neural network between -1 and 1.\n",
    "\n",
    "# Number of layers = 3 (1 input layer + 1 hidden layer + 1 output layer)\n",
    "# Input layer will contain 3 neurons, corresponding to the three inputs.\n",
    "# Hidden layer will have 6 neurons and the output layer will have 1 neuron.\n",
    "\n",
    "# Activation function of hidden layer = sigmoid function\n",
    "# Activation function of output layer = linear function (i.e., output = input)\n",
    "\n",
    "# Fitness of each chromosome will be equal to the mean square of its genes."
   ]
  },
  {
   "cell_type": "code",
   "execution_count": 2,
   "metadata": {},
   "outputs": [],
   "source": [
    "import random\n",
    "import numpy as np\n",
    "import matplotlib.pyplot as plt\n",
    "from functools import reduce"
   ]
  },
  {
   "cell_type": "code",
   "execution_count": 3,
   "metadata": {},
   "outputs": [],
   "source": [
    "# Parameters given for the problem\n",
    "numInputs = 3\n",
    "numHiddenNeurons = 6\n",
    "numOutputs = 1 \n",
    "pop_size = 20\n",
    "crossOverRate = 0.7\n",
    "weight_range = (-1, 1)\n",
    "max_gen = 200"
   ]
  },
  {
   "cell_type": "code",
   "execution_count": 4,
   "metadata": {},
   "outputs": [],
   "source": [
    "# Generating the inputs of a 3-input XOR logic gate\n",
    "inputs = []\n",
    "\n",
    "for num in range(2 ** numInputs):\n",
    "    bin_inputs = [int(bit) for bit in format(num, '03b')]\n",
    "    inputs.append(bin_inputs)\n",
    "    \n",
    "inputs = np.insert(np.array(inputs), 0, 1, axis=1) # Converting list to array and appending bias(= 1) at the start of each row"
   ]
  },
  {
   "cell_type": "code",
   "execution_count": 5,
   "metadata": {},
   "outputs": [],
   "source": [
    "# Generating the output array of the 3-input XOR logic gate\n",
    "desired_outputs = np.array([[reduce(type(inputs[0,0]).__xor__, row[1:]) for row in inputs]]).T"
   ]
  },
  {
   "cell_type": "code",
   "execution_count": 6,
   "metadata": {},
   "outputs": [],
   "source": [
    "# Activation function for hidden layer\n",
    "def sigmoid(x):\n",
    "    return 1/(1 + np.exp(-x))"
   ]
  },
  {
   "cell_type": "code",
   "execution_count": 7,
   "metadata": {},
   "outputs": [],
   "source": [
    "# Function to generate population of chromosomes\n",
    "\n",
    "# note => The chromosomes generated will not contain the inputs, rather they will contain the weights and biases of \n",
    "#         the hidden and output layers (called weight encoding scheme). The size of each chromosome = I*H + H + H*O + O, where,\n",
    "#               I -> number of input neurons\n",
    "#               H -> number of hidden layer neurons\n",
    "#               O -> number of output neurons\n",
    "#         The format of each chromosome is as follows:\n",
    "#               [w1_1, w1_2, w1_3,..., w1_H,..., wI_1, wI_2, wI_3,..., wI_H, b1, b2,..., bH, w1_1, w1_2, w1_3,..., w1_O,..., wH_1, wH_2, wH_3,..., wH_O, c1, c2,..., cO]\n",
    "#                <---------------------------------------------------------><--------------><----------------------------------------------------------><-------------->\n",
    "#                                Weights of each input neuron               Bias weights of                   Weights of each hidden neuron              Bias weights of\n",
    "#                               to every neuron in hidden layer            each hidden neuron                     to every output neuron               each output neuron\n",
    "\n",
    "def generatePopulation(size:int) -> list[list]:\n",
    "    pop = []\n",
    "    \n",
    "    chr_size = numInputs*numHiddenNeurons + numHiddenNeurons + numHiddenNeurons*numOutputs + numOutputs\n",
    "    for _ in range(size):\n",
    "        chromosome = [random.uniform(weight_range[0], weight_range[1]) for _ in range(chr_size)]\n",
    "        pop.append(chromosome)\n",
    "    \n",
    "    return pop"
   ]
  },
  {
   "cell_type": "code",
   "execution_count": 8,
   "metadata": {},
   "outputs": [],
   "source": [
    "# Fitness function that calculates fitness of a chromosome\n",
    "# Chromosome fitness = mean square of actual output - mean square of predicted output as derived by using chromosome\n",
    "\n",
    "def getFitness(chromosome:list) -> float:\n",
    "    \n",
    "    # Extracting weights for input layer to hidden layer\n",
    "    start = 0\n",
    "    end = numInputs * numHiddenNeurons\n",
    "    weights_ih = np.array([chromosome[start:end]]).reshape((numInputs, numHiddenNeurons))\n",
    "    \n",
    "    start = end\n",
    "    end = start + numHiddenNeurons\n",
    "    bias_ih = np.array([chromosome[start:end]])\n",
    "    weights_ih = np.vstack((bias_ih, weights_ih))\n",
    "    \n",
    "    # Calculating the output of the hidden layer\n",
    "    hidden_output = np.insert(sigmoid(np.dot(inputs, weights_ih)), 0, 1, axis=1)\n",
    "\n",
    "    # Extracting weights for hidden layer to output layer\n",
    "    start = end\n",
    "    end = start + (numHiddenNeurons * numOutputs)\n",
    "    weights_ho = np.array([chromosome[start:end]]).reshape((numHiddenNeurons, numOutputs))\n",
    "    \n",
    "    start = end\n",
    "    end = start + numOutputs\n",
    "    bias_ho = np.array([chromosome[start:end]])\n",
    "    weights_ho = np.vstack((bias_ho, weights_ho))\n",
    "    \n",
    "    # Calculating the outputs\n",
    "    predicted_outputs = np.dot(hidden_output, weights_ho)\n",
    "    \n",
    "    # Returning the mean square error\n",
    "    return np.mean((desired_outputs - predicted_outputs) ** 2)"
   ]
  },
  {
   "cell_type": "code",
   "execution_count": 9,
   "metadata": {},
   "outputs": [],
   "source": [
    "# Function to get mutant chromosome\n",
    "def getMutant(population:list[list], best_chromosome):\n",
    "    \n",
    "    # Getting two random chromosomes from the population\n",
    "    r1 = np.array(population[random.randint(0, pop_size-1)])\n",
    "    r2 = np.array(population[random.randint(0, pop_size-1)])\n",
    "    \n",
    "    # Generating a random scaling factor, which will determine the influence of (r1-r2) on mutation\n",
    "    F = random.random()\n",
    "    \n",
    "    # Returning the mutant chromosome array\n",
    "    return best_chromosome + (F * (r1 - r2))"
   ]
  },
  {
   "cell_type": "code",
   "execution_count": 10,
   "metadata": {},
   "outputs": [],
   "source": [
    "# Function to perform uniform cross-over between two chromosomes and produce the offspring\n",
    "def uniform_crossover(parent1, parent2) -> list:\n",
    "    child = []\n",
    "    for i in range(len(parent1)):\n",
    "        if random.random() <= crossOverRate:\n",
    "            child.append(parent1[i])\n",
    "        else:\n",
    "            child.append(parent2[i])\n",
    "            \n",
    "    return child"
   ]
  },
  {
   "cell_type": "code",
   "execution_count": 11,
   "metadata": {},
   "outputs": [],
   "source": [
    "fitness_curve = []\n",
    "population = generatePopulation(pop_size)\n",
    "\n",
    "for _ in range(max_gen):\n",
    "    i = -1\n",
    "    \n",
    "    # Training the current generation\n",
    "    while (i := i+1) < pop_size:\n",
    "        \n",
    "        # Finding the best chromosome of the current iteration\n",
    "        fitness_values = [getFitness(chromosome) for chromosome in population]\n",
    "        least_error = min(fitness_values)\n",
    "        best = np.array(population[fitness_values.index(least_error)])\n",
    "        \n",
    "        fitness_curve.append(least_error)\n",
    "        \n",
    "        # Mutation\n",
    "        mutant = getMutant(population, best)\n",
    "        \n",
    "        # Crossover\n",
    "        trial = uniform_crossover(mutant, population[i])\n",
    "        \n",
    "        # Calculate fitness\n",
    "        fitness_t = getFitness(trial)\n",
    "        fitness_c = getFitness(population[i])\n",
    "        \n",
    "        # Selection; trial chromosome is selected if its mean square error is less\n",
    "        if fitness_t < fitness_c:\n",
    "            population[i] = trial"
   ]
  },
  {
   "cell_type": "code",
   "execution_count": 12,
   "metadata": {},
   "outputs": [
    {
     "data": {
      "image/png": "[encoded data removed]",
      "text/plain": [
       "<Figure size 640x480 with 1 Axes>"
      ]
     },
     "metadata": {},
     "output_type": "display_data"
    }
   ],
   "source": [
    "plt.plot(fitness_curve, linestyle='-', linewidth=1.25, color='red')\n",
    "plt.xlabel(\"Epoch\")\n",
    "plt.ylabel(\"Training Error\")\n",
    "plt.title(\"Convergence of GA-ANN training\")\n",
    "plt.grid(True)\n",
    "plt.show()"
   ]
  },
  {
   "cell_type": "code",
   "execution_count": null,
   "metadata": {},
   "outputs": [],
   "source": []
  }
 ],
 "metadata": {
  "kernelspec": {
   "display_name": "Python 3",
   "language": "python",
   "name": "python3"
  },
  "language_info": {
   "codemirror_mode": {
    "name": "ipython",
    "version": 3
   },
   "file_extension": ".py",
   "mimetype": "text/x-python",
   "name": "python",
   "nbconvert_exporter": "python",
   "pygments_lexer": "ipython3",
   "version": "3.11.6"
  },
  "orig_nbformat": 4
 },
 "nbformat": 4,
 "nbformat_minor": 2
}

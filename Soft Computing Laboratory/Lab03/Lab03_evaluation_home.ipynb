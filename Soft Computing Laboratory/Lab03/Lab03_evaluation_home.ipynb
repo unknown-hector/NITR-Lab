{
 "cells": [
  {
   "cell_type": "code",
   "execution_count": 1,
   "metadata": {},
   "outputs": [],
   "source": [
    "# Fuzzy sets for market value in the range 0 to 100\n",
    "fuzzySets_market = [\n",
    "    [(0, 0), (0, 1), (5, 1), (10, 0)],      # LOW\n",
    "    [(5, 0), (10, 1), (20, 1), (25, 0)],    # MEDIUM\n",
    "    [(20, 0), (25, 1), (65, 1), (85, 0)],   # HIGH\n",
    "    [(65, 0), (85, 1), (100, 1), (100, 0)]  # VERY_HIGH\n",
    "]"
   ]
  },
  {
   "cell_type": "code",
   "execution_count": 3,
   "metadata": {},
   "outputs": [],
   "source": [
    "# Fuzzy sets for location in the range 0 to 10\n",
    "fuzzySets_location = [\n",
    "    [(0, 0), (0, 1), (1.5, 1), (4, 0)],     # BAD\n",
    "    [(2.5, 0), (5, 1), (6, 1), (8.5, 0)],   # FAIR\n",
    "    [(6, 0), (8.5, 1), (10, 1), (10, 0)]    # EXCELLENT\n",
    "]"
   ]
  },
  {
   "cell_type": "code",
   "execution_count": 4,
   "metadata": {},
   "outputs": [],
   "source": [
    "def get_Ordinate(x_coordinate, pt1:tuple, pt2:tuple):\n",
    "    slope = (pt2[1] - pt1[1])/(pt2[0] - pt1[0])\n",
    "    return pt1[1] + slope*(x_coordinate - pt1[0])"
   ]
  },
  {
   "cell_type": "code",
   "execution_count": 5,
   "metadata": {},
   "outputs": [],
   "source": [
    "def getFuzzyValues(fuzzySet:list[list], rating) -> list:\n",
    "    val = []\n",
    "    \n",
    "    for l in fuzzySet:\n",
    "        y_ordinate = -1\n",
    "        i = -1\n",
    "        end = len(l) - 1\n",
    "        while (i := i+1) < end:\n",
    "            if l[i][0] <= rating <= l[i+1][0]:\n",
    "                y_ordinate = get_Ordinate(rating, l[i], l[i+1])\n",
    "            else:\n",
    "                continue\n",
    "        if y_ordinate != -1:\n",
    "            val.append(y_ordinate)\n",
    "        else:\n",
    "            val.append(0.0)\n",
    "    \n",
    "    return val"
   ]
  },
  {
   "cell_type": "code",
   "execution_count": 6,
   "metadata": {},
   "outputs": [],
   "source": [
    "# Creating a dictionary for market value\n",
    "market_rating = 33.67\n",
    "market_keys = ['LOW', 'MEDIUM', 'HIGH', 'VERY_HIGH']\n",
    "fuzzyValues_market = getFuzzyValues(fuzzySets_market, market_rating)\n",
    "marketDict = dict(zip(market_keys, fuzzyValues_market))"
   ]
  },
  {
   "cell_type": "code",
   "execution_count": 7,
   "metadata": {},
   "outputs": [],
   "source": [
    "# Creating a dictionary for location\n",
    "location_rating = 2.69\n",
    "location_keys = ['BAD', 'FAIR', 'EXCELLENT']\n",
    "fuzzyValues_location = getFuzzyValues(fuzzySets_location, location_rating)\n",
    "locationDict = dict(zip(location_keys, fuzzyValues_location))"
   ]
  },
  {
   "cell_type": "code",
   "execution_count": 8,
   "metadata": {},
   "outputs": [],
   "source": [
    "# Creating a dictionary for house\n",
    "houseDict = {\n",
    "    'VERY_LOW': 0.0,\n",
    "    'LOW': 0.0,\n",
    "    'MEDIUM': 0.0,\n",
    "    'HIGH': 0.0,\n",
    "    'VERY_HIGH': 0.0\n",
    "}"
   ]
  },
  {
   "cell_type": "code",
   "execution_count": 9,
   "metadata": {},
   "outputs": [],
   "source": [
    "# Applying fuzzy rules to market and location quality\n",
    "# to get the fuzzy values of house\n",
    "house:str = ''\n",
    "for market in market_keys:\n",
    "    for location in location_keys:\n",
    "        match market:\n",
    "            case 'LOW':\n",
    "                match location:\n",
    "                    case 'BAD'          : house = 'VERY_LOW'\n",
    "                    case 'FAIR'         : house = 'LOW'\n",
    "                    case 'EXCELLENT'    : house = 'MEDIUM'\n",
    "            case 'MEDIUM':\n",
    "                match location:\n",
    "                    case 'BAD'          : house = 'LOW'\n",
    "                    case 'FAIR'         : house = 'MEDIUM'\n",
    "                    case 'EXCELLENT'    : house = 'HIGH'\n",
    "            case 'HIGH':\n",
    "                match location:\n",
    "                    case 'BAD'          : house = 'MEDIUM'\n",
    "                    case 'FAIR'         : house = 'HIGH'\n",
    "                    case 'EXCELLENT'    : house = 'VERY_HIGH'\n",
    "            case 'VERY_HIGH':\n",
    "                match location:\n",
    "                    case 'BAD'          : house = 'HIGH'\n",
    "                    case 'FAIR'         : house = 'VERY_HIGH'\n",
    "                    case 'EXCELLENT'    : house = 'VERY_HIGH'\n",
    "        \n",
    "        houseDict[house] = max(houseDict[house], min(marketDict[market], locationDict[location]))"
   ]
  },
  {
   "cell_type": "code",
   "execution_count": 10,
   "metadata": {},
   "outputs": [],
   "source": [
    "# Defining the fuzzy sets for house\n",
    "fuzzySets_house = [\n",
    "    [(0, 0), (0, 1), (3, 0)],   # VERY_LOW\n",
    "    [(0, 0), (3, 1), (6, 0)],   # LOW\n",
    "    [(2, 0), (5, 1), (8, 0)],   # MEDIUM\n",
    "    [(4, 0), (7, 1), (10, 0)],  # HIGH\n",
    "    [(7, 0), (10, 1), (10, 0)]  # VERY_HIGH\n",
    "]"
   ]
  },
  {
   "cell_type": "code",
   "execution_count": 11,
   "metadata": {},
   "outputs": [],
   "source": [
    "# Finding the crisp value using centroid method\n",
    "def getCrispVal(opDict:dict, opSet:list[list]) -> float:\n",
    "    fuzzy_sum = sum(opDict.values())\n",
    "    fuzzy_centroid = [sum(pair[0] for pair in member)/len(member) for member in opSet]\n",
    "    crispVal = 0\n",
    "    for i, key in enumerate(opDict):\n",
    "        crispVal += opDict[key]*fuzzy_centroid[i]\n",
    "    \n",
    "    return crispVal/fuzzy_sum"
   ]
  },
  {
   "cell_type": "code",
   "execution_count": 12,
   "metadata": {},
   "outputs": [
    {
     "name": "stdout",
     "output_type": "stream",
     "text": [
      "Rating of house on a scale of 0 to 10 = 5.253333333333334\n"
     ]
    }
   ],
   "source": [
    "house_rating = getCrispVal(houseDict, fuzzySets_house)\n",
    "print('Rating of house on a scale of 0 to 10 =', house_rating)"
   ]
  },
  {
   "cell_type": "code",
   "execution_count": null,
   "metadata": {},
   "outputs": [],
   "source": []
  }
 ],
 "metadata": {
  "kernelspec": {
   "display_name": "Python 3",
   "language": "python",
   "name": "python3"
  },
  "language_info": {
   "codemirror_mode": {
    "name": "ipython",
    "version": 3
   },
   "file_extension": ".py",
   "mimetype": "text/x-python",
   "name": "python",
   "nbconvert_exporter": "python",
   "pygments_lexer": "ipython3",
   "version": "3.11.6"
  },
  "orig_nbformat": 4
 },
 "nbformat": 4,
 "nbformat_minor": 2
}

{
 "cells": [
  {
   "cell_type": "code",
   "execution_count": 1,
   "metadata": {},
   "outputs": [],
   "source": [
    "# Fuzzy sets for asset in the range 0 to 1000\n",
    "fuzzySets_asset = [\n",
    "    [(0, 0), (0, 1), (150, 0)],                 # LOW\n",
    "    [(50, 0), (250, 1), (450, 1), (650, 0)],    # MEDIUM\n",
    "    [(500, 0), (700, 1), (1000, 1), (1000, 0)]  # HIGH\n",
    "]"
   ]
  },
  {
   "cell_type": "code",
   "execution_count": 2,
   "metadata": {},
   "outputs": [],
   "source": [
    "# Fuzzy sets for income in the range 0 to 100\n",
    "fuzzySets_income = [\n",
    "    [(0, 0), (0, 1), (10, 1), (25, 0)],     # LOW\n",
    "    [(15, 0), (35, 1), (55, 0)],            # MEDIUM\n",
    "    [(40, 0), (60, 1), (80, 0)],            # HIGH\n",
    "    [(60, 0), (80, 1), (100, 1), (100, 0)]  # VERY_HIGH\n",
    "]"
   ]
  },
  {
   "cell_type": "code",
   "execution_count": 3,
   "metadata": {},
   "outputs": [],
   "source": [
    "def get_Ordinate(x_coordinate, pt1:tuple, pt2:tuple) -> float:\n",
    "    slope = (pt2[1] - pt1[1])/(pt2[0] - pt1[0])\n",
    "    return pt1[1] + slope*(x_coordinate - pt1[0])"
   ]
  },
  {
   "cell_type": "code",
   "execution_count": 4,
   "metadata": {},
   "outputs": [],
   "source": [
    "def getFuzzyValues(fuzzySet:list[list], rating) -> list:\n",
    "    val = []\n",
    "    \n",
    "    for l in fuzzySet:\n",
    "        y_ordinate = -1\n",
    "        i = -1\n",
    "        end = len(l) - 1\n",
    "        while (i := i+1) < end:\n",
    "            if l[i][0] <= rating <= l[i+1][0]:\n",
    "                y_ordinate = get_Ordinate(rating, l[i], l[i+1])\n",
    "            else:\n",
    "                continue\n",
    "        if y_ordinate != -1:\n",
    "            val.append(y_ordinate)\n",
    "        else:\n",
    "            val.append(0.0)\n",
    "    \n",
    "    return val"
   ]
  },
  {
   "cell_type": "code",
   "execution_count": 5,
   "metadata": {},
   "outputs": [],
   "source": [
    "# Creating a dictionary for asset\n",
    "asset_rating = 678.44\n",
    "asset_keys = ['LOW', 'MEDIUM', 'HIGH']\n",
    "fuzzyValues_asset = getFuzzyValues(fuzzySets_asset, asset_rating)\n",
    "assetDict = dict(zip(asset_keys, fuzzyValues_asset))"
   ]
  },
  {
   "cell_type": "code",
   "execution_count": 6,
   "metadata": {},
   "outputs": [],
   "source": [
    "# Creating a dictionary for income\n",
    "income_rating = 43.89\n",
    "income_keys = ['LOW', 'MEDIUM', 'HIGH', 'VERY_HIGH']\n",
    "fuzzyValues_income = getFuzzyValues(fuzzySets_income, income_rating)\n",
    "incomeDict = dict(zip(income_keys, fuzzyValues_income))"
   ]
  },
  {
   "cell_type": "code",
   "execution_count": 7,
   "metadata": {},
   "outputs": [],
   "source": [
    "# Creating a dictionary for house\n",
    "applicantDict = {\n",
    "    'LOW': 0.0,\n",
    "    'MEDIUM': 0.0,\n",
    "    'HIGH': 0.0\n",
    "}"
   ]
  },
  {
   "cell_type": "code",
   "execution_count": 8,
   "metadata": {},
   "outputs": [],
   "source": [
    "# Applying fuzzy rules to asset and income\n",
    "# to get the fuzzy values of applicant\n",
    "applicant:str = ''\n",
    "for asset in asset_keys:\n",
    "    for income in income_keys:\n",
    "        match asset:\n",
    "            case 'LOW':\n",
    "                match income:\n",
    "                    case 'LOW'          : applicant = 'LOW'\n",
    "                    case 'MEDIUM'       : applicant = 'LOW'\n",
    "                    case 'HIGH'         : applicant = 'MEDIUM'\n",
    "                    case 'VERY_HIGH'    : applicant = 'HIGH'\n",
    "            case 'MEDIUM':\n",
    "                match income:\n",
    "                    case 'LOW'          : applicant = 'LOW'\n",
    "                    case 'MEDIUM'       : applicant = 'MEDIUM'\n",
    "                    case 'HIGH'         : applicant = 'HIGH'\n",
    "                    case 'VERY_HIGH'    : applicant = 'HIGH'\n",
    "            case 'HIGH':\n",
    "                match income:\n",
    "                    case 'LOW'          : applicant = 'MEDIUM'\n",
    "                    case 'MEDIUM'       : applicant = 'MEDIUM'\n",
    "                    case 'HIGH'         : applicant = 'HIGH'\n",
    "                    case 'VERY_HIGH'    : applicant = 'HIGH'\n",
    "        \n",
    "        applicantDict[applicant] = max(applicantDict[applicant], min(assetDict[asset], incomeDict[income]))"
   ]
  },
  {
   "cell_type": "code",
   "execution_count": 9,
   "metadata": {},
   "outputs": [],
   "source": [
    "# Defining the fuzzy sets for applicant\n",
    "fuzzySets_applicant = [\n",
    "    [(0, 0), (0, 1), (2, 1), (4, 0)],   # LOW\n",
    "    [(2, 0), (5, 1), (8, 0)],           # MEDIUM\n",
    "    [(6, 0), (8, 1), (10, 1), (10, 0)]  # HIGH\n",
    "]"
   ]
  },
  {
   "cell_type": "code",
   "execution_count": 10,
   "metadata": {},
   "outputs": [],
   "source": [
    "# Finding the crisp value using centroid method\n",
    "def getCrispVal(opDict:dict, opSet:list[list]) -> float:\n",
    "    fuzzy_sum = sum(opDict.values())\n",
    "    fuzzy_centroid = [sum(pair[0] for pair in member)/len(member) for member in opSet]\n",
    "    crispVal = 0\n",
    "    for i, key in enumerate(opDict):\n",
    "        crispVal += opDict[key]*fuzzy_centroid[i]\n",
    "    \n",
    "    return crispVal/fuzzy_sum"
   ]
  },
  {
   "cell_type": "code",
   "execution_count": 11,
   "metadata": {},
   "outputs": [
    {
     "name": "stdout",
     "output_type": "stream",
     "text": [
      "Rating of house on a scale of 0 to 10 = 5.9076666666666675\n"
     ]
    }
   ],
   "source": [
    "applicant_rating = getCrispVal(applicantDict, fuzzySets_applicant)\n",
    "print('Rating of house on a scale of 0 to 10 =', applicant_rating)"
   ]
  },
  {
   "cell_type": "code",
   "execution_count": null,
   "metadata": {},
   "outputs": [],
   "source": []
  }
 ],
 "metadata": {
  "kernelspec": {
   "display_name": "Python 3",
   "language": "python",
   "name": "python3"
  },
  "language_info": {
   "codemirror_mode": {
    "name": "ipython",
    "version": 3
   },
   "file_extension": ".py",
   "mimetype": "text/x-python",
   "name": "python",
   "nbconvert_exporter": "python",
   "pygments_lexer": "ipython3",
   "version": "3.12.0"
  },
  "orig_nbformat": 4
 },
 "nbformat": 4,
 "nbformat_minor": 2
}

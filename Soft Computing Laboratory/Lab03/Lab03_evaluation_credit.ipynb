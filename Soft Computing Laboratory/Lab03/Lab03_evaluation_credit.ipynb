{
 "cells": [
  {
   "cell_type": "code",
   "execution_count": 1,
   "metadata": {},
   "outputs": [],
   "source": [
    "# Fuzzy sets for income in the range 0 to 100\n",
    "fuzzySets_income = [\n",
    "    [(0, 0), (0, 1), (10, 1), (25, 0)],     # LOW\n",
    "    [(15, 0), (35, 1), (55, 0)],            # MEDIUM\n",
    "    [(40, 0), (60, 1), (80, 0)],            # HIGH\n",
    "    [(60, 0), (80, 1), (100, 1), (100, 0)]  # VERY_HIGH\n",
    "]"
   ]
  },
  {
   "cell_type": "code",
   "execution_count": 2,
   "metadata": {},
   "outputs": [],
   "source": [
    "# Fuzzy sets for interest in the range 0 t0 10\n",
    "fuzzySets_interest = [\n",
    "    [(0, 0), (0, 1), (2, 1), (5, 0)],       # LOW\n",
    "    [(2, 0), (4, 1), (6, 1), (8, 0)],       # MEDIUM\n",
    "    [(6, 0), (8.5, 1), (10, 1), (10, 0)]    # HIGH\n",
    "]"
   ]
  },
  {
   "cell_type": "code",
   "execution_count": 3,
   "metadata": {},
   "outputs": [],
   "source": [
    "# Fuzzy sets for applicant in the range 0 to 10\n",
    "fuzzySets_applicant = [\n",
    "    [(0, 0), (0, 1), (2, 1), (4, 0)],   # LOW\n",
    "    [(2, 0), (5, 1), (8, 0)],           # MEDIUM\n",
    "    [(6, 0), (8, 1), (10, 1), (10, 0)]  # HIGH\n",
    "]"
   ]
  },
  {
   "cell_type": "code",
   "execution_count": 4,
   "metadata": {},
   "outputs": [],
   "source": [
    "# Fuzzy sets for house in the range 0 to 10\n",
    "fuzzySets_house = [\n",
    "    [(0, 0), (0, 1), (3, 0)],   # VERY_LOW\n",
    "    [(0, 0), (3, 1), (6, 0)],   # LOW\n",
    "    [(2, 0), (5, 1), (8, 0)],   # MEDIUM\n",
    "    [(4, 0), (7, 1), (10, 0)],  # HIGH\n",
    "    [(7, 0), (10, 1), (10, 0)]  # VERY_HIGH\n",
    "]"
   ]
  },
  {
   "cell_type": "code",
   "execution_count": 5,
   "metadata": {},
   "outputs": [],
   "source": [
    "def get_Ordinate(x_coordinate, pt1:tuple, pt2:tuple) -> float:\n",
    "    slope = (pt2[1] - pt1[1])/(pt2[0] - pt1[0])\n",
    "    return pt1[1] + slope*(x_coordinate - pt1[0])"
   ]
  },
  {
   "cell_type": "code",
   "execution_count": 6,
   "metadata": {},
   "outputs": [],
   "source": [
    "def getFuzzyValues(fuzzySet:list[list], rating) -> list:\n",
    "    val = []\n",
    "    \n",
    "    for l in fuzzySet:\n",
    "        y_ordinate = -1\n",
    "        i = -1\n",
    "        end = len(l) - 1\n",
    "        while (i := i+1) < end:\n",
    "            if l[i][0] <= rating <= l[i+1][0]:\n",
    "                y_ordinate = get_Ordinate(rating, l[i], l[i+1])\n",
    "            else:\n",
    "                continue\n",
    "        if y_ordinate != -1:\n",
    "            val.append(y_ordinate)\n",
    "        else:\n",
    "            val.append(0.0)\n",
    "    \n",
    "    return val"
   ]
  },
  {
   "cell_type": "code",
   "execution_count": 7,
   "metadata": {},
   "outputs": [],
   "source": [
    "# Creating a dictionary for income\n",
    "income_rating = 43.89\n",
    "income_keys = ['LOW', 'MEDIUM', 'HIGH', 'VERY_HIGH']\n",
    "fuzzyValues_income = getFuzzyValues(fuzzySets_income, income_rating)\n",
    "incomeDict = dict(zip(income_keys, fuzzyValues_income))"
   ]
  },
  {
   "cell_type": "code",
   "execution_count": 8,
   "metadata": {},
   "outputs": [],
   "source": [
    "# Creating a dictionary for interest\n",
    "interest_rating = 7.17\n",
    "interest_keys = ['LOW', 'MEDIUM', 'HIGH']\n",
    "fuzzyValues_interest = getFuzzyValues(fuzzySets_interest, interest_rating)\n",
    "interestDict = dict(zip(interest_keys, fuzzyValues_interest))"
   ]
  },
  {
   "cell_type": "code",
   "execution_count": 9,
   "metadata": {},
   "outputs": [],
   "source": [
    "# Creating a dictionary for applicant\n",
    "applicant_rating = 9.12\n",
    "applicant_keys = ['LOW', 'MEDIUM', 'HIGH']\n",
    "fuzzyValues_applicant = getFuzzyValues(fuzzySets_applicant, applicant_rating)\n",
    "applicantDict = dict(zip(applicant_keys, fuzzyValues_applicant))"
   ]
  },
  {
   "cell_type": "code",
   "execution_count": 10,
   "metadata": {},
   "outputs": [],
   "source": [
    "# Creating a dictionary for house\n",
    "house_rating = 4.98\n",
    "house_keys = ['VERY_LOW', 'LOW', 'MEDIUM', 'HIGH', 'VERY_HIGH']\n",
    "fuzzyValues_house = getFuzzyValues(fuzzySets_house, house_rating)\n",
    "houseDict = dict(zip(house_keys, fuzzyValues_house))"
   ]
  },
  {
   "cell_type": "code",
   "execution_count": 11,
   "metadata": {},
   "outputs": [],
   "source": [
    "# Inferring input qualities based on fuzzy values\n",
    "income = max(incomeDict, key=incomeDict.get)\n",
    "interest = max(interestDict, key=interestDict.get)\n",
    "applicant = max(applicantDict, key=applicantDict.get)\n",
    "house = max(houseDict, key=houseDict.get)"
   ]
  },
  {
   "cell_type": "code",
   "execution_count": 12,
   "metadata": {},
   "outputs": [],
   "source": [
    "# Applying fuzzy rules to input qualities\n",
    "# to get the quality of credit\n",
    "credit = None\n",
    "\n",
    "match income:\n",
    "    case 'LOW':\n",
    "        match interest:\n",
    "            case 'MEDIUM'   : credit = 'VERY_LOW'\n",
    "            case 'HIGH'     : credit = 'VERY_LOW'\n",
    "    case 'MEDIUM':\n",
    "        match interest:\n",
    "            case 'HIGH'     : credit = 'LOW'\n",
    "\n",
    "match applicant:\n",
    "    case 'LOW':\n",
    "        match house:\n",
    "            case 'VERY_LOW'     : credit = 'VERY_LOW'\n",
    "    case 'MEDIUM':\n",
    "        match house:\n",
    "            case 'VERY_LOW'     : credit = 'LOW'\n",
    "            case 'LOW'          : credit = 'LOW'\n",
    "            case 'MEDIUM'       : credit = 'MEDIUM'\n",
    "            case 'HIGH'         : credit = 'HIGH'\n",
    "            case 'VERY_HIGH'    : credit = 'HIGH'\n",
    "    case 'HIGH':\n",
    "        match house:\n",
    "            case 'VERY_LOW'     : credit = 'LOW'\n",
    "            case 'LOW'          : credit = 'MEDIUM'\n",
    "            case 'MEDIUM'       : credit = 'HIGH'\n",
    "            case 'HIGH'         : credit = 'HIGH'\n",
    "            case 'VERY_HIGH'    : credit = 'VERY_HIGH'"
   ]
  },
  {
   "cell_type": "code",
   "execution_count": 13,
   "metadata": {},
   "outputs": [
    {
     "name": "stdout",
     "output_type": "stream",
     "text": [
      "Credit = HIGH\n"
     ]
    }
   ],
   "source": [
    "print('Credit =', credit)"
   ]
  }
 ],
 "metadata": {
  "kernelspec": {
   "display_name": "Python 3",
   "language": "python",
   "name": "python3"
  },
  "language_info": {
   "codemirror_mode": {
    "name": "ipython",
    "version": 3
   },
   "file_extension": ".py",
   "mimetype": "text/x-python",
   "name": "python",
   "nbconvert_exporter": "python",
   "pygments_lexer": "ipython3",
   "version": "3.11.6"
  },
  "orig_nbformat": 4
 },
 "nbformat": 4,
 "nbformat_minor": 2
}

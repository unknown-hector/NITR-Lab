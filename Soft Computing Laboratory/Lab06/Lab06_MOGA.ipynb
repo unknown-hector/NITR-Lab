{
 "cells": [
  {
   "cell_type": "code",
   "execution_count": 1,
   "metadata": {},
   "outputs": [],
   "source": [
    "import random\n",
    "import matplotlib.pyplot as plt"
   ]
  },
  {
   "cell_type": "code",
   "execution_count": 2,
   "metadata": {},
   "outputs": [],
   "source": [
    "# Problem parameters\n",
    "x_range = (-1000, 1000)\n",
    "\n",
    "# User defined parameters\n",
    "pop_size = 100\n",
    "generations = 500\n",
    "mutation_rate = 0.45"
   ]
  },
  {
   "cell_type": "code",
   "execution_count": 3,
   "metadata": {},
   "outputs": [],
   "source": [
    "# Setting the parameters for f-strings\n",
    "decimal_places = 15\n",
    "len1 = len(str(abs(x_range[0]))); len2 = len(str(abs(x_range[1])))\n",
    "digits =  len1 if len1 >= len2 else len2\n",
    "total_places = decimal_places + digits + 2 #2 accounts for both the decimal point and the sign"
   ]
  },
  {
   "cell_type": "code",
   "execution_count": 4,
   "metadata": {},
   "outputs": [],
   "source": [
    "# Function to generate the population\n",
    "def generate_population(size:int) -> list:\n",
    "    return [random.uniform(x_range[0], x_range[1]+1e-6) for _ in range(size)]"
   ]
  },
  {
   "cell_type": "code",
   "execution_count": 5,
   "metadata": {},
   "outputs": [],
   "source": [
    "# First objective function\n",
    "def f1(x:float) -> float:\n",
    "    return x ** 2"
   ]
  },
  {
   "cell_type": "code",
   "execution_count": 6,
   "metadata": {},
   "outputs": [],
   "source": [
    "# Second objective function\n",
    "def f2(x:float) -> float:\n",
    "    return (x - 2) ** 2"
   ]
  },
  {
   "cell_type": "code",
   "execution_count": 7,
   "metadata": {},
   "outputs": [],
   "source": [
    "# Function to determine the set of non-dominated Pareto-optimal solutions\n",
    "def generate_paretoSet(population:list, objective_values:list[tuple], size:int) -> list:\n",
    "    pareto_set = []\n",
    "    \n",
    "    for i in range(size):\n",
    "        is_Pareto = True\n",
    "        for j in range(size):\n",
    "            if (i!=j) and (objective_values[i][0]<objective_values[j][0]) and (objective_values[i][1]<=objective_values[j][1]):\n",
    "                is_Pareto = False\n",
    "                break\n",
    "        if is_Pareto:\n",
    "            pareto_set.append(population[i])\n",
    "    \n",
    "    return pareto_set"
   ]
  },
  {
   "cell_type": "code",
   "execution_count": 8,
   "metadata": {},
   "outputs": [],
   "source": [
    "# Function to calculate the selection probabilities of each element in population\n",
    "def get_probability(size:int) -> list:\n",
    "    temp = [random.uniform(-1, 1) for _ in range(size)] # Weights are generated\n",
    "    weight_sum = sum(temp)\n",
    "    temp = [weight/weight_sum for weight in temp] # Fitness values are calculated\n",
    "    min_fitness = min(temp)\n",
    "    temp = [fitness_value - min_fitness for fitness_value in temp] # Difference is calculated for probability calculation\n",
    "    difference_sum = sum(temp)\n",
    "    temp = [difference/difference_sum for difference in temp] # Probability is calculated\n",
    "    return temp"
   ]
  },
  {
   "cell_type": "code",
   "execution_count": 9,
   "metadata": {},
   "outputs": [],
   "source": [
    "# Function to select a parent based on roulette-wheel selection algorithm\n",
    "def roulette_wheel_selection(probability_values:list, size:int) -> int:\n",
    "    cumulative_probability = 0\n",
    "    randNum = random.uniform(0.0, 1.0)\n",
    "    indx = -1\n",
    "    \n",
    "    while (indx := indx+1) < size:\n",
    "        cumulative_probability += probability_values[indx]\n",
    "        if cumulative_probability >= randNum:\n",
    "            break\n",
    "    \n",
    "    return indx"
   ]
  },
  {
   "cell_type": "code",
   "execution_count": 10,
   "metadata": {},
   "outputs": [],
   "source": [
    "# Function to perform two-point cross-over\n",
    "def cross_over(x1:float, x2:float) -> tuple:\n",
    "    x1Str = f'{x1:+0{total_places}.{decimal_places}f}'\n",
    "    x2Str = f'{x2:+0{total_places}.{decimal_places}f}'\n",
    "    \n",
    "    indx1 = random.randint(0, total_places-1)\n",
    "    indx2 = random.randint(0, total_places-1)\n",
    "    if indx1 > indx2:\n",
    "        indx1, indx2 = indx2, indx1\n",
    "    \n",
    "    offspring1 = x1Str[:indx1] + x2Str[indx1:indx2] + x1Str[indx2:]\n",
    "    offspring2 = x2Str[:indx1] + x1Str[indx1:indx2] + x2Str[indx2:]\n",
    "    \n",
    "    return (offspring1, offspring2)"
   ]
  },
  {
   "cell_type": "code",
   "execution_count": 11,
   "metadata": {},
   "outputs": [],
   "source": [
    "# Function to generate mutant pair of offsprings\n",
    "def get_mutants(x1:float, x2:float) -> tuple:\n",
    "    digits = ['0', '1', '2', '3', '4', '5', '6', '7', '8', '9']\n",
    "    \n",
    "    def mutate(charList:list) -> None:\n",
    "        for i in range(total_places):\n",
    "            if (i==0 or i==1 or i==5):\n",
    "                continue\n",
    "            else:\n",
    "                if(random.random() >= mutation_rate):\n",
    "                    charList[i] = random.choice(digits)\n",
    "    \n",
    "    x1CharList, x2CharList = cross_over(x1, x2)\n",
    "    x1CharList = list(x1CharList)\n",
    "    x2CharList = list(x2CharList)\n",
    "    \n",
    "    mutate(x1CharList)\n",
    "    mutate(x2CharList)\n",
    "    \n",
    "    x1CharList = ''.join(x1CharList)\n",
    "    x2CharList = ''.join(x2CharList)\n",
    "    \n",
    "    return (float(x1CharList), float(x2CharList))"
   ]
  },
  {
   "cell_type": "code",
   "execution_count": 12,
   "metadata": {},
   "outputs": [],
   "source": [
    "# Generate initial population\n",
    "population = generate_population(pop_size)"
   ]
  },
  {
   "cell_type": "code",
   "execution_count": 13,
   "metadata": {},
   "outputs": [
    {
     "data": {
      "image/png": "[encoded data removed]",
      "text/plain": [
       "<Figure size 640x480 with 1 Axes>"
      ]
     },
     "metadata": {},
     "output_type": "display_data"
    }
   ],
   "source": [
    "# Plot the values in the population on the number line\n",
    "plt.scatter(population, [0]*pop_size, c='r', marker='x')\n",
    "plt.yticks([])\n",
    "plt.xlim(x_range[0], x_range[1])\n",
    "plt.xlabel('Solutions')\n",
    "plt.title('INITIAL POPULATION')\n",
    "plt.show()"
   ]
  },
  {
   "cell_type": "code",
   "execution_count": 14,
   "metadata": {},
   "outputs": [],
   "source": [
    "# Evolution algorithm\n",
    "for _ in range(generations):\n",
    "    objective_values = [(f1(val), f2(val)) for val in population]\n",
    "    paretoSet = generate_paretoSet(population, objective_values, pop_size) # Tentative Pareto-optimal solutions set\n",
    "    probability_values = get_probability(pop_size)\n",
    "    \n",
    "    offsprings = []\n",
    "    for _ in range(pop_size // 2):\n",
    "        parent1 = population[roulette_wheel_selection(probability_values, pop_size)]\n",
    "        parent2 = population[roulette_wheel_selection(probability_values, pop_size)]\n",
    "        child1, child2 = get_mutants(parent1, parent2)\n",
    "        offsprings.append(child1)\n",
    "        offsprings.append(child2)\n",
    "    \n",
    "    # Elitist strategy to conserve the best solutions\n",
    "    population += offsprings\n",
    "    selection_value = pop_size - len(paretoSet)\n",
    "    population = random.sample(population, k=selection_value)\n",
    "    population += paretoSet\n",
    "    "
   ]
  },
  {
   "cell_type": "code",
   "execution_count": 15,
   "metadata": {},
   "outputs": [
    {
     "data": {
      "image/png": "[encoded data removed]",
      "text/plain": [
       "<Figure size 640x480 with 1 Axes>"
      ]
     },
     "metadata": {},
     "output_type": "display_data"
    }
   ],
   "source": [
    "# Plot the values in the final updated population\n",
    "plt.scatter(population, [0]*pop_size, c='g', marker='x')\n",
    "plt.yticks([])\n",
    "plt.xlim(x_range[0], x_range[1])\n",
    "plt.xlabel('Solutions')\n",
    "plt.title('FINAL POPULATION')\n",
    "plt.show()"
   ]
  },
  {
   "cell_type": "code",
   "execution_count": null,
   "metadata": {},
   "outputs": [],
   "source": []
  }
 ],
 "metadata": {
  "kernelspec": {
   "display_name": "Python 3",
   "language": "python",
   "name": "python3"
  },
  "language_info": {
   "codemirror_mode": {
    "name": "ipython",
    "version": 3
   },
   "file_extension": ".py",
   "mimetype": "text/x-python",
   "name": "python",
   "nbconvert_exporter": "python",
   "pygments_lexer": "ipython3",
   "version": "3.11.6"
  },
  "orig_nbformat": 4
 },
 "nbformat": 4,
 "nbformat_minor": 2
}

{
 "cells": [
  {
   "cell_type": "code",
   "execution_count": 1,
   "metadata": {},
   "outputs": [],
   "source": [
    "import numpy as np\n",
    "import matplotlib.pyplot as plt\n",
    "from matplotlib.backends.backend_pdf import PdfPages"
   ]
  },
  {
   "cell_type": "code",
   "execution_count": 2,
   "metadata": {},
   "outputs": [],
   "source": [
    "# Problem parameters\n",
    "independent_simulations = 10\n",
    "max_iterations = 10\n",
    "swarm_size = 50\n",
    "dim = 30\n",
    "w_ini = 1\n",
    "c1 = 1.5\n",
    "c2 = 2.5\n",
    "limits = (-5.12, 5.12)\n",
    "\n",
    "# User defined parameters\n",
    "w_fin = 0.25  # Usually lies between 0.1 to 0.5"
   ]
  },
  {
   "cell_type": "code",
   "execution_count": 3,
   "metadata": {},
   "outputs": [],
   "source": [
    "# Function to be minimized\n",
    "def objective_function(particle):\n",
    "    return np.sum(particle**2 - 10*np.cos(2*particle*np.pi) + 10)"
   ]
  },
  {
   "cell_type": "code",
   "execution_count": 4,
   "metadata": {},
   "outputs": [],
   "source": [
    "# Function to generate swarm\n",
    "def generate_swarm(row:int, col:int):\n",
    "    return np.random.uniform(limits[0], limits[1]+1e-6, size=(row, col))"
   ]
  },
  {
   "cell_type": "code",
   "execution_count": 5,
   "metadata": {},
   "outputs": [],
   "source": [
    "def update_velocity(velocity_vector, curr_pos, pbest, gbest, w):\n",
    "    r1 = np.random.rand()\n",
    "    r2 = np.random.rand()\n",
    "    return w * velocity_vector + c1 * r1 * (pbest - curr_pos) + c2 * r2 * (gbest - curr_pos)"
   ]
  },
  {
   "cell_type": "code",
   "execution_count": 6,
   "metadata": {},
   "outputs": [],
   "source": [
    "# PSO\n",
    "gbest_simulation = []\n",
    "pbest_simulation = []\n",
    "convergence_curve = []\n",
    "\n",
    "for _ in range(independent_simulations):\n",
    "    swarm_position = generate_swarm(dim, swarm_size)\n",
    "    swarm_velocities = np.zeros_like(swarm_position)\n",
    "\n",
    "    pbest_position = np.copy(swarm_position)\n",
    "    pbest_value = np.apply_along_axis(objective_function, 0, pbest_position).reshape(1, swarm_size)\n",
    "\n",
    "    gbest_position = pbest_position[:, np.argmin(pbest_value)].reshape(dim, 1)\n",
    "\n",
    "    pbest_iteration = []\n",
    "    gbest_iteration = []\n",
    "    for iteration_number in range(max_iterations):\n",
    "        w = w_ini - ((w_ini - w_fin) * iteration_number)/max_iterations\n",
    "        for indx in range(swarm_size):\n",
    "            curr_velocity = swarm_velocities[:, indx].reshape(dim, 1)\n",
    "            curr_position = swarm_position[:, indx].reshape(dim, 1)\n",
    "            best_position = pbest_position[:, indx].reshape(dim, 1)\n",
    "            new_velocity = update_velocity(curr_velocity, curr_position, best_position, gbest_position, w)\n",
    "\n",
    "            for i in range(dim):\n",
    "                swarm_velocities[i, indx] += new_velocity[i, 0]\n",
    "                swarm_position[i, indx] += swarm_velocities[i, indx]\n",
    "\n",
    "            new_value = objective_function(swarm_position[:, indx])\n",
    "            if new_value < pbest_value[0, indx]:\n",
    "                pbest_value[0, indx] = new_value\n",
    "                for i in range(dim):\n",
    "                    pbest_position[i, indx] = swarm_position[i, indx]\n",
    "\n",
    "            gbest_position = pbest_position[:, np.argmin(pbest_value)].reshape(dim, 1)\n",
    "        \n",
    "        gbest_iteration.append(objective_function(gbest_position))\n",
    "        \n",
    "        pbest_iteration.append(np.copy(pbest_value))\n",
    "\n",
    "    gbest_simulation.append(objective_function(gbest_position))\n",
    "    pbest_simulation.append(pbest_iteration)\n",
    "    convergence_curve.append(gbest_iteration)"
   ]
  },
  {
   "cell_type": "code",
   "execution_count": 7,
   "metadata": {},
   "outputs": [
    {
     "data": {
      "image/png": "[encoded data removed]",
      "text/plain": [
       "<Figure size 640x480 with 1 Axes>"
      ]
     },
     "metadata": {},
     "output_type": "display_data"
    }
   ],
   "source": [
    "# Plot the end-of-iteration global best values of each simulation\n",
    "plt.scatter(range(1, independent_simulations+1), gbest_simulation, c='r', marker='o')\n",
    "plt.xlabel('Simulation Number')\n",
    "plt.ylabel('End-of-Iteration gbest')\n",
    "plt.grid(True)\n",
    "plt.title('Global best values across simulations')\n",
    "plt.savefig('Global_values_sim.pdf', format='pdf')"
   ]
  },
  {
   "cell_type": "code",
   "execution_count": 8,
   "metadata": {},
   "outputs": [],
   "source": [
    "# Plotting the pbest values of each particle in all iterations simulation-wise\n",
    "with PdfPages('Simulation-wise_Iteration.pdf') as pdf:\n",
    "    for i in range(independent_simulations):\n",
    "        plt.figure(figsize=(15, 6))\n",
    "        plt.title(f'Simulation {i+1}')\n",
    "        plt.xlabel('Particle')\n",
    "        plt.ylabel('End-of-Iteration pbest_value')\n",
    "        plt.grid()\n",
    "        for j in range(max_iterations):\n",
    "            plt.plot(pbest_simulation[i][j][0, :], label=f'Iteration {j+1}')\n",
    "        plt.legend(bbox_to_anchor=(1, 1))\n",
    "        pdf.savefig()\n",
    "        plt.close()"
   ]
  },
  {
   "cell_type": "code",
   "execution_count": 15,
   "metadata": {},
   "outputs": [],
   "source": [
    "# Plotting the convergence curve of gbest values for each simulation\n",
    "with PdfPages('Convergence.pdf') as pdf:\n",
    "    plt.figure(figsize=(15, 6))\n",
    "    plt.title('Convergence Curve')\n",
    "    plt.xlabel('Iteration Number')\n",
    "    plt.ylabel('End-of-Iteration gbest_value')\n",
    "\n",
    "    for i in range(independent_simulations):\n",
    "        plt.plot(convergence_curve[i], label=f'Simulation {i+1}')\n",
    "\n",
    "    plt.legend(bbox_to_anchor=(1, 1))\n",
    "    plt.grid()\n",
    "    pdf.savefig()\n",
    "    plt.close()"
   ]
  },
  {
   "cell_type": "code",
   "execution_count": null,
   "metadata": {},
   "outputs": [],
   "source": []
  }
 ],
 "metadata": {
  "kernelspec": {
   "display_name": "Python 3",
   "language": "python",
   "name": "python3"
  },
  "language_info": {
   "codemirror_mode": {
    "name": "ipython",
    "version": 3
   },
   "file_extension": ".py",
   "mimetype": "text/x-python",
   "name": "python",
   "nbconvert_exporter": "python",
   "pygments_lexer": "ipython3",
   "version": "3.12.0"
  }
 },
 "nbformat": 4,
 "nbformat_minor": 2
}
